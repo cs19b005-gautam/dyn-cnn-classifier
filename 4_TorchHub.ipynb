{
  "cells": [
    {
      "cell_type": "markdown",
      "metadata": {
        "id": "gjsgrt_yFefa"
      },
      "source": [
        "#### Author : Gautam Badri \n",
        "\n",
        "# 4) Dynamic Convolutional Neural Network using TorchHub"
      ]
    },
    {
      "cell_type": "code",
      "execution_count": 1,
      "metadata": {
        "colab": {
          "base_uri": "https://localhost:8080/",
          "height": 0
        },
        "id": "WQM_rMTUH1ob",
        "outputId": "359dacf3-d807-4d56-922d-282ba64c68c9"
      },
      "outputs": [
        {
          "name": "stdout",
          "output_type": "stream",
          "text": [
            "Looking in indexes: https://pypi.org/simple, https://us-python.pkg.dev/colab-wheels/public/simple/\n",
            "Requirement already satisfied: torchmetrics in /usr/local/lib/python3.7/dist-packages (0.10.2)\n",
            "Requirement already satisfied: torch>=1.3.1 in /usr/local/lib/python3.7/dist-packages (from torchmetrics) (1.12.1+cu113)\n",
            "Requirement already satisfied: numpy>=1.17.2 in /usr/local/lib/python3.7/dist-packages (from torchmetrics) (1.21.6)\n",
            "Requirement already satisfied: packaging in /usr/local/lib/python3.7/dist-packages (from torchmetrics) (21.3)\n",
            "Requirement already satisfied: typing-extensions in /usr/local/lib/python3.7/dist-packages (from torchmetrics) (4.1.1)\n",
            "Requirement already satisfied: pyparsing!=3.0.5,>=2.0.2 in /usr/local/lib/python3.7/dist-packages (from packaging->torchmetrics) (3.0.9)\n"
          ]
        }
      ],
      "source": [
        "! pip install torchmetrics"
      ]
    },
    {
      "cell_type": "markdown",
      "metadata": {
        "id": "nuUaIz3vSqY_"
      },
      "source": [
        "### 4A) Create hubconf.py with above codes as in Exercise 3"
      ]
    },
    {
      "cell_type": "code",
      "execution_count": 2,
      "metadata": {
        "colab": {
          "base_uri": "https://localhost:8080/",
          "height": 0
        },
        "id": "UY8iGST1FcJf",
        "outputId": "3148d617-262c-4171-80d6-8f6a0f437e34"
      },
      "outputs": [
        {
          "name": "stderr",
          "output_type": "stream",
          "text": [
            "Downloading: \"https://github.com/cs19b005iittp/isl-a6/zipball/main\" to /root/.cache/torch/hub/main.zip\n"
          ]
        },
        {
          "name": "stdout",
          "output_type": "stream",
          "text": [
            "['Accuracy', 'DataLoader', 'Dataset', 'Dyn_CNN', 'F1Score', 'Precision', 'Recall', 'ToTensor', 'get_DynCNN_model', 'get_dataloaders', 'get_datasets', 'get_input_dim', 'get_lossFn', 'get_num_classes', 'get_optim', 'loss_fun', 'precision_recall_fscore_support', 'precision_score', 'recall_score', 'test_network', 'train_network']\n"
          ]
        }
      ],
      "source": [
        "import torch\n",
        "\n",
        "myrepo = 'cs19b005iittp/isl-a6:main'\n",
        "\n",
        "entrypoints = torch.hub.list(myrepo,force_reload=True)\n",
        "\n",
        "print (entrypoints)"
      ]
    },
    {
      "cell_type": "markdown",
      "metadata": {
        "id": "DiiXzR5nSySQ"
      },
      "source": [
        "### 4B) Create a colab notebook to programatically invoke your hubconf.py using torch.hub.load() function"
      ]
    },
    {
      "cell_type": "code",
      "execution_count": 3,
      "metadata": {
        "colab": {
          "base_uri": "https://localhost:8080/",
          "height": 0
        },
        "id": "cPHIrkV0HreQ",
        "outputId": "93c65836-7c04-4a53-826b-6af1150af3f7"
      },
      "outputs": [
        {
          "name": "stderr",
          "output_type": "stream",
          "text": [
            "Downloading: \"https://github.com/cs19b005iittp/isl-a6/zipball/main\" to /root/.cache/torch/hub/main.zip\n"
          ]
        }
      ],
      "source": [
        "train_data, test_data = torch.hub.load(myrepo,'get_datasets',force_reload=True)"
      ]
    },
    {
      "cell_type": "code",
      "execution_count": 4,
      "metadata": {
        "colab": {
          "base_uri": "https://localhost:8080/",
          "height": 0
        },
        "id": "pZD2qs3YI4wG",
        "outputId": "357303a9-af72-41f1-a8de-1d85c7c37c45"
      },
      "outputs": [
        {
          "name": "stderr",
          "output_type": "stream",
          "text": [
            "Using cache found in /root/.cache/torch/hub/cs19b005iittp_isl-a6_main\n"
          ]
        }
      ],
      "source": [
        "train_dataloader, test_dataloader =  torch.hub.load(myrepo, 'get_dataloaders', train_data=train_data, test_data=test_data)# get_dataloaders(train_data, test_data)"
      ]
    },
    {
      "cell_type": "code",
      "execution_count": 5,
      "metadata": {
        "colab": {
          "base_uri": "https://localhost:8080/",
          "height": 0
        },
        "id": "aE3LOnLNGcUa",
        "outputId": "6ac8cbb8-5a89-4006-be0a-87431d6f0c85"
      },
      "outputs": [
        {
          "name": "stderr",
          "output_type": "stream",
          "text": [
            "Downloading: \"https://github.com/cs19b005iittp/isl-a6/zipball/main\" to /root/.cache/torch/hub/main.zip\n"
          ]
        }
      ],
      "source": [
        "# num_classes = get_num_classes(test_data)\n",
        "num_classes = torch.hub.load(myrepo, 'get_num_classes', train_data = train_data, force_reload = True)"
      ]
    },
    {
      "cell_type": "code",
      "execution_count": 6,
      "metadata": {
        "colab": {
          "base_uri": "https://localhost:8080/",
          "height": 0
        },
        "id": "37_1BB8xKAW-",
        "outputId": "380d989d-6978-4791-afb2-7ef8ea21c1c1"
      },
      "outputs": [
        {
          "name": "stderr",
          "output_type": "stream",
          "text": [
            "Downloading: \"https://github.com/cs19b005iittp/isl-a6/zipball/main\" to /root/.cache/torch/hub/main.zip\n"
          ]
        },
        {
          "name": "stdout",
          "output_type": "stream",
          "text": [
            "Shape of X: torch.Size([64, 1, 28, 28])\n",
            "Shape of y: torch.Size([64]) torch.int64\n"
          ]
        }
      ],
      "source": [
        "# input_dim = get_input_dim(train_dataloader)\n",
        "input_dim = torch.hub.load(myrepo, 'get_input_dim', test_dataloader = test_dataloader, force_reload = True)"
      ]
    },
    {
      "cell_type": "code",
      "execution_count": 7,
      "metadata": {
        "id": "xmXVflENLH3n"
      },
      "outputs": [],
      "source": [
        "config = [(1, 20, 1, (5,5), 0), (20, 50, 1, (5,5), 0)]"
      ]
    },
    {
      "cell_type": "markdown",
      "metadata": {
        "id": "9MgPZGN7Svhx"
      },
      "source": [
        "### 4C) Build NN"
      ]
    },
    {
      "cell_type": "code",
      "execution_count": 18,
      "metadata": {
        "colab": {
          "base_uri": "https://localhost:8080/",
          "height": 0
        },
        "id": "OyaSdLdnJeRU",
        "outputId": "2a3b77aa-70bb-4452-aa1f-4142c8a2a748"
      },
      "outputs": [
        {
          "name": "stderr",
          "output_type": "stream",
          "text": [
            "Using cache found in /root/.cache/torch/hub/cs19b005iittp_isl-a6_main\n"
          ]
        }
      ],
      "source": [
        "# model = get_model(config, input_dim, num_classes)\n",
        "device = \"cuda\" if torch.cuda.is_available() else \"cpu\"\n",
        "DynCNN_model = torch.hub.load(myrepo, 'get_DynCNN_model', config=config, num_classes=num_classes, input_dim=input_dim)\n",
        "DynCNN_model = DynCNN_model.to(device)"
      ]
    },
    {
      "cell_type": "code",
      "execution_count": 14,
      "metadata": {
        "colab": {
          "base_uri": "https://localhost:8080/",
          "height": 0
        },
        "id": "4AKsMlxAMXbf",
        "outputId": "eb4e2e55-7181-443a-defc-c1de1af72687"
      },
      "outputs": [
        {
          "name": "stderr",
          "output_type": "stream",
          "text": [
            "Downloading: \"https://github.com/cs19b005iittp/isl-a6/zipball/main\" to /root/.cache/torch/hub/main.zip\n"
          ]
        }
      ],
      "source": [
        "# optim = get_optim(model)\n",
        "optim = torch.hub.load(myrepo, 'get_optim', DynCNN_model=DynCNN_model , lr=1e-4, force_reload = True)"
      ]
    },
    {
      "cell_type": "code",
      "execution_count": 15,
      "metadata": {
        "colab": {
          "base_uri": "https://localhost:8080/",
          "height": 0
        },
        "id": "sqxGeT0WOrWb",
        "outputId": "66b3920f-2e3f-4f6b-d0a2-760436ccd473"
      },
      "outputs": [
        {
          "name": "stderr",
          "output_type": "stream",
          "text": [
            "Downloading: \"https://github.com/cs19b005iittp/isl-a6/zipball/main\" to /root/.cache/torch/hub/main.zip\n"
          ]
        }
      ],
      "source": [
        "loss_fn = torch.hub.load(myrepo, 'get_lossFn', force_reload = True)"
      ]
    },
    {
      "cell_type": "markdown",
      "metadata": {
        "id": "GPwNb6MOS3pt"
      },
      "source": [
        "### 4D) Train NN"
      ]
    },
    {
      "cell_type": "code",
      "execution_count": 16,
      "metadata": {
        "colab": {
          "base_uri": "https://localhost:8080/",
          "height": 0
        },
        "id": "khw_qtS2OOkq",
        "outputId": "98633567-d606-44ae-f474-ca5ad9452145"
      },
      "outputs": [
        {
          "name": "stderr",
          "output_type": "stream",
          "text": [
            "Using cache found in /root/.cache/torch/hub/cs19b005iittp_isl-a6_main\n"
          ]
        },
        {
          "name": "stdout",
          "output_type": "stream",
          "text": [
            "Training Model ...\n",
            "\n",
            "\n",
            "[Epoch : 1/5] loss =  47661.69071769714\n",
            "[Epoch : 2/5] loss =  32045.856073379517\n",
            "[Epoch : 3/5] loss =  28424.46918296814\n",
            "[Epoch : 4/5] loss =  26215.373149871826\n",
            "[Epoch : 5/5] loss =  24613.95810031891\n"
          ]
        }
      ],
      "source": [
        "# train_network(train_dataloader, model, optim, loss_fun)\n",
        "torch.hub.load(myrepo, 'train_network', train_dataloader=train_dataloader, DynCNN_model=DynCNN_model, optim=optim, loss_fn=loss_fn)"
      ]
    },
    {
      "cell_type": "markdown",
      "metadata": {
        "id": "oRfTLmaQS66r"
      },
      "source": [
        "### 4E) Test on the test data set - report accuracy, precision, recall and F1 scores"
      ]
    },
    {
      "cell_type": "code",
      "execution_count": 17,
      "metadata": {
        "colab": {
          "base_uri": "https://localhost:8080/",
          "height": 0
        },
        "id": "jj3thrSOMkPJ",
        "outputId": "f2a165f9-d258-4cc2-a318-a317ecde81b4"
      },
      "outputs": [
        {
          "name": "stdout",
          "output_type": "stream",
          "text": [
            "Test Results of the Model ...\n"
          ]
        },
        {
          "name": "stderr",
          "output_type": "stream",
          "text": [
            "Using cache found in /root/.cache/torch/hub/cs19b005iittp_isl-a6_main\n"
          ]
        },
        {
          "name": "stdout",
          "output_type": "stream",
          "text": [
            "Test Error: \n",
            " Accuracy: 86.4%, Avg loss: 24.708864 \n",
            "\n",
            "Accuracy : tensor(0.8438, device='cuda:0')\n",
            "precision : tensor(0.8690, device='cuda:0')\n",
            "recall : tensor(0.8600, device='cuda:0')\n",
            "f1_score : tensor(0.8578, device='cuda:0')\n"
          ]
        },
        {
          "data": {
            "text/plain": [
              "(Accuracy(), Precision(), Recall(), F1Score())"
            ]
          },
          "execution_count": 17,
          "metadata": {},
          "output_type": "execute_result"
        }
      ],
      "source": [
        "torch.hub.load(myrepo, 'test_network', dataloader=test_dataloader, DynCNN_model=DynCNN_model, loss_fun=loss_fn)"
      ]
    }
  ],
  "metadata": {
    "accelerator": "GPU",
    "colab": {
      "provenance": []
    },
    "gpuClass": "standard",
    "kernelspec": {
      "display_name": "Python 3",
      "name": "python3"
    },
    "language_info": {
      "name": "python"
    }
  },
  "nbformat": 4,
  "nbformat_minor": 0
}
