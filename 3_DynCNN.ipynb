{
  "cells": [
    {
      "cell_type": "markdown",
      "metadata": {
        "id": "vTvsVwmd_RsO"
      },
      "source": [
        "#### Author : Gautam Badri\n",
        "\n",
        "# 3) Dynamic Convolutional Neural Network"
      ]
    },
    {
      "cell_type": "code",
      "execution_count": 1,
      "metadata": {
        "id": "KA2Yk4owFj54"
      },
      "outputs": [],
      "source": [
        "import torch\n",
        "from torch import nn\n",
        "from torch.utils.data import Dataset, DataLoader\n",
        "from torchvision import datasets\n",
        "from torchvision.transforms import ToTensor"
      ]
    },
    {
      "cell_type": "code",
      "execution_count": 2,
      "metadata": {
        "id": "Z5l0jTWlFuS-"
      },
      "outputs": [],
      "source": [
        "device = \"cuda\" if torch.cuda.is_available() else \"cpu\""
      ]
    },
    {
      "cell_type": "markdown",
      "metadata": {
        "id": "LXt9pkWeSJto"
      },
      "source": [
        "### 3A) Create a NN with dynamic configuration\n",
        "\n",
        "\n",
        "### 3B) config parameter provides list of tuples, each tuple specifics Conv2d() configuration\n",
        "\n",
        "\n",
        "### 3C) Determine size of FC layer, programatically (print size of tensor after flowing through above convolutions and multiply those sizes)\n",
        "\n",
        "\n",
        "### 3D) Do softmax before returning in the forward function."
      ]
    },
    {
      "cell_type": "code",
      "execution_count": 41,
      "metadata": {
        "id": "KEHE84OSF3IZ"
      },
      "outputs": [],
      "source": [
        "class Dyn_CNN(nn.Module):\n",
        "    def __init__(self, config, input_dim, num_classes):\n",
        "        super().__init__()\n",
        "        self.input_dim = input_dim\n",
        "        self.num_layers = len(config)\n",
        "        self.conv_layers = nn.ModuleList(\n",
        "            [nn.Conv2d(in_channels=i, out_channels=o, stride=s, kernel_size=k, padding=p) for i, o, s, k, p in config])\n",
        "        self.relu_layers = nn.ModuleList([nn.ReLU() for i in range(len(config))])\n",
        "        self.fc_in_h = input_dim[0]\n",
        "        self.fc_in_w = input_dim[1]\n",
        "        for i,o,s,f,p in config:       #stride=(heightxwidth)\n",
        "            self.fc_in_h = ((self.fc_in_h-f[0]+2*p)//s)+1\n",
        "            self.fc_in_w = ((self.fc_in_w-f[1]+2*p)//s)+1\n",
        "        # print('in_features = ' , config[-1][1]*self.fc_in_h*self.fc_in_w)\n",
        "        self.fc = nn.Linear(in_features = config[-1][1]*self.fc_in_h*self.fc_in_w, out_features=num_classes)\n",
        "        self.flatten = nn.Flatten()\n",
        "        self.softmax = nn.Softmax(dim=1)\n",
        "    \n",
        "    def forward(self, x):\n",
        "        self.conv_out_feature_maps = 0\n",
        "        for i,l in enumerate(self.conv_layers):\n",
        "            x = self.conv_layers[i](x)\n",
        "            x = self.relu_layers[i](x)\n",
        "        x = self.flatten(x)\n",
        "        # print(x.shape)\n",
        "        x = self.fc(x)\n",
        "        x = self.softmax(x)\n",
        "        return x"
      ]
    },
    {
      "cell_type": "code",
      "execution_count": 4,
      "metadata": {
        "id": "JmvYXW2a7Ayv"
      },
      "outputs": [],
      "source": [
        "def get_datasets():\n",
        "    train_data = datasets.FashionMNIST(\n",
        "        root=\"data\",\n",
        "        train = True,\n",
        "        download = True,\n",
        "        transform = ToTensor()\n",
        "    )\n",
        "\n",
        "    test_data = datasets.FashionMNIST(\n",
        "        root = \"data\",\n",
        "        train = True,\n",
        "        download = True,\n",
        "        transform = ToTensor()\n",
        "    )\n",
        "    \n",
        "    return train_data, test_data"
      ]
    },
    {
      "cell_type": "code",
      "execution_count": 5,
      "metadata": {
        "id": "boh7RTFddmF0"
      },
      "outputs": [],
      "source": [
        "def get_dataloaders(train_data, test_data):\n",
        "    train_dataloader = DataLoader(train_data, batch_size=64)\n",
        "    test_dataloader = DataLoader(test_data, batch_size=64)\n",
        "    return train_dataloader, test_dataloader"
      ]
    },
    {
      "cell_type": "markdown",
      "metadata": {
        "id": "KqSwa3wrSQH5"
      },
      "source": [
        "### 3E) Customized loss function (not the library version)"
      ]
    },
    {
      "cell_type": "code",
      "execution_count": 6,
      "metadata": {
        "id": "bqLyxBGkeDYv"
      },
      "outputs": [],
      "source": [
        "def loss_fun(y_pred, y_actual):\n",
        "  v = -(y_actual * torch.log(y_pred+1e-10))\n",
        "  v = torch.sum(v)\n",
        "  return v"
      ]
    },
    {
      "cell_type": "code",
      "execution_count": 7,
      "metadata": {
        "id": "zu_YFmP5eJPr"
      },
      "outputs": [],
      "source": [
        "def get_optim(model, lr=1e-6):\n",
        "    optim = torch.optim.SGD(model.parameters(), lr = lr)\n",
        "    return optim"
      ]
    },
    {
      "cell_type": "code",
      "execution_count": 8,
      "metadata": {
        "id": "dEZ9_Ldu7v-8"
      },
      "outputs": [],
      "source": [
        "def get_num_classes(train_data):\n",
        "    return len(train_data.classes)"
      ]
    },
    {
      "cell_type": "code",
      "execution_count": 9,
      "metadata": {
        "id": "HmqP2dSF6Myf"
      },
      "outputs": [],
      "source": [
        "def get_input_dim(train_dataloader):\n",
        "    _x, _y = None,None\n",
        "\n",
        "    for X, y in test_dataloader:\n",
        "        _x = X.shape\n",
        "        _y = y.shape\n",
        "        print(f\"Shape of X: {X.shape}\")\n",
        "        print(f\"Shape of y: {y.shape} {y.dtype}\")\n",
        "        break\n",
        "    \n",
        "    return _x[2],_x[3] #heightxwidth"
      ]
    },
    {
      "cell_type": "code",
      "execution_count": 10,
      "metadata": {
        "id": "xqz-Pdl6eQtb"
      },
      "outputs": [],
      "source": [
        "def get_model(config, input_dim, num_classes):\n",
        "    model = Dyn_CNN(config, input_dim, num_classes)\n",
        "    return model"
      ]
    },
    {
      "cell_type": "code",
      "execution_count": 25,
      "metadata": {
        "id": "cBHqUuREefPP"
      },
      "outputs": [],
      "source": [
        "def train_network(train_dataloader, model, optim, loss_fn, epochs=5):\n",
        "    print('Training Model ...\\n\\n')\n",
        "    for epoch in range(epochs):\n",
        "        running_loss = 0.0\n",
        "        for i, data in enumerate(train_dataloader, 0):\n",
        "            inputs, labels = data\n",
        "            inputs , labels = inputs.to(device), labels.to(device)\n",
        "            optim.zero_grad()\n",
        "            outputs = model(inputs)\n",
        "            tmp = torch.nn.functional.one_hot(labels, num_classes= 10)\n",
        "            loss = loss_fn(outputs, tmp)\n",
        "            loss.backward()\n",
        "            optim.step()\n",
        "            running_loss += loss.item()\n",
        "            # return\n",
        "        print(\"[Epoch : {}/{}] loss = \".format(epoch+1,epochs),running_loss)"
      ]
    },
    {
      "cell_type": "code",
      "execution_count": 12,
      "metadata": {
        "id": "aPWEnQOYfCDn"
      },
      "outputs": [],
      "source": [
        "from sklearn.metrics import precision_score\n",
        "from sklearn.metrics import recall_score\n",
        "import numpy as np\n",
        "from sklearn.metrics import precision_recall_fscore_support"
      ]
    },
    {
      "cell_type": "code",
      "execution_count": 13,
      "metadata": {
        "colab": {
          "base_uri": "https://localhost:8080/",
          "height": 0
        },
        "id": "MLB6x4PAfQlF",
        "outputId": "99898de7-2e32-422b-becb-854581a9f0fe"
      },
      "outputs": [
        {
          "name": "stdout",
          "output_type": "stream",
          "text": [
            "Looking in indexes: https://pypi.org/simple, https://us-python.pkg.dev/colab-wheels/public/simple/\n",
            "Requirement already satisfied: torchmetrics in /usr/local/lib/python3.7/dist-packages (0.10.2)\n",
            "Requirement already satisfied: typing-extensions in /usr/local/lib/python3.7/dist-packages (from torchmetrics) (4.1.1)\n",
            "Requirement already satisfied: numpy>=1.17.2 in /usr/local/lib/python3.7/dist-packages (from torchmetrics) (1.21.6)\n",
            "Requirement already satisfied: packaging in /usr/local/lib/python3.7/dist-packages (from torchmetrics) (21.3)\n",
            "Requirement already satisfied: torch>=1.3.1 in /usr/local/lib/python3.7/dist-packages (from torchmetrics) (1.12.1+cu113)\n",
            "Requirement already satisfied: pyparsing!=3.0.5,>=2.0.2 in /usr/local/lib/python3.7/dist-packages (from packaging->torchmetrics) (3.0.9)\n"
          ]
        }
      ],
      "source": [
        "!pip install torchmetrics"
      ]
    },
    {
      "cell_type": "code",
      "execution_count": 14,
      "metadata": {
        "id": "OXbP0QzufRR0"
      },
      "outputs": [],
      "source": [
        "from torchmetrics import Precision, Recall, F1Score, Accuracy\n",
        "from torchmetrics.classification import accuracy"
      ]
    },
    {
      "cell_type": "code",
      "execution_count": 15,
      "metadata": {
        "id": "mDE_LRTWfUog"
      },
      "outputs": [],
      "source": [
        "def test_network(dataloader, model, loss_fun):\n",
        "    size = len(dataloader.dataset)\n",
        "    num_batches = len(dataloader)\n",
        "    model.eval()\n",
        "    test_loss, correct = 0, 0\n",
        "    with torch.no_grad():\n",
        "        for X, y in dataloader:\n",
        "            X = X.to(device)\n",
        "            y = y.to(device)\n",
        "            tmp = torch.nn.functional.one_hot(y, num_classes= 10)\n",
        "            pred = model(X)\n",
        "            test_loss += loss_fun(pred, tmp).item()\n",
        "            correct += (pred.argmax(1) == y).type(torch.float).sum().item()\n",
        "    test_loss/= num_batches\n",
        "    correct/=size\n",
        "    print(f\"Test Error: \\n Accuracy: {(100*correct):>0.1f}%, Avg loss: {test_loss:>8f} \\n\")\n",
        "    accuracy1 = Accuracy().to(device)\n",
        "    print('Accuracy :', accuracy1(pred,y))\n",
        "    precision = Precision(average = 'macro', num_classes = 10).to(device)\n",
        "    print('precision :', precision(pred,y))\n",
        "\n",
        "    recall = Recall(average = 'macro', num_classes = 10).to(device)\n",
        "    print('recall :', recall(pred,y))\n",
        "    f1_score = F1Score(average = 'macro', num_classes = 10).to(device)\n",
        "    print('f1_score :', f1_score(pred,y))\n",
        "    return accuracy1,precision, recall, f1_score"
      ]
    },
    {
      "cell_type": "code",
      "execution_count": 16,
      "metadata": {
        "id": "OpVXKX6N5-SF"
      },
      "outputs": [],
      "source": [
        "train_data, test_data = get_datasets()\n",
        "train_dataloader, test_dataloader = get_dataloaders(train_data, test_data)"
      ]
    },
    {
      "cell_type": "code",
      "execution_count": 17,
      "metadata": {
        "id": "hGCW_4ZY9kuV"
      },
      "outputs": [],
      "source": [
        "num_classes = get_num_classes(test_data)"
      ]
    },
    {
      "cell_type": "code",
      "execution_count": 18,
      "metadata": {
        "colab": {
          "base_uri": "https://localhost:8080/",
          "height": 0
        },
        "id": "m-cF5cFX94Fo",
        "outputId": "231a2390-8de3-4530-ea7a-48f37286b201"
      },
      "outputs": [
        {
          "data": {
            "text/plain": [
              "10"
            ]
          },
          "execution_count": 18,
          "metadata": {},
          "output_type": "execute_result"
        }
      ],
      "source": [
        "num_classes"
      ]
    },
    {
      "cell_type": "code",
      "execution_count": 19,
      "metadata": {
        "colab": {
          "base_uri": "https://localhost:8080/",
          "height": 0
        },
        "id": "vc4ldS2Q95xJ",
        "outputId": "14b540d6-afc9-4158-90be-62a2ebb328ae"
      },
      "outputs": [
        {
          "name": "stdout",
          "output_type": "stream",
          "text": [
            "Shape of X: torch.Size([64, 1, 28, 28])\n",
            "Shape of y: torch.Size([64]) torch.int64\n"
          ]
        }
      ],
      "source": [
        "input_dim = get_input_dim(train_dataloader)"
      ]
    },
    {
      "cell_type": "code",
      "execution_count": 20,
      "metadata": {
        "colab": {
          "base_uri": "https://localhost:8080/",
          "height": 0
        },
        "id": "jHVMUtLM-CvV",
        "outputId": "e5ccd300-a678-40a7-e701-a95fae4d1484"
      },
      "outputs": [
        {
          "data": {
            "text/plain": [
              "(28, 28)"
            ]
          },
          "execution_count": 20,
          "metadata": {},
          "output_type": "execute_result"
        }
      ],
      "source": [
        "input_dim"
      ]
    },
    {
      "cell_type": "code",
      "execution_count": 21,
      "metadata": {
        "id": "7TcMntqJ-GuL"
      },
      "outputs": [],
      "source": [
        "#in_channels=i, out_channels=o, stride=s, kernel_size=k, padding=p\n",
        "config = [(1, 20, 1, (5,5), 0), (20, 50, 1, (5,5), 0)]"
      ]
    },
    {
      "cell_type": "code",
      "execution_count": 42,
      "metadata": {
        "id": "xvOiuhJC-fHO"
      },
      "outputs": [],
      "source": [
        "# config, input_dim, num_classes\n",
        "model = get_model(config, input_dim, num_classes)\n",
        "model = model.to(device)"
      ]
    },
    {
      "cell_type": "markdown",
      "metadata": {
        "id": "lJylWFQySW_E"
      },
      "source": [
        "### 3F) Train on training data set"
      ]
    },
    {
      "cell_type": "code",
      "execution_count": 43,
      "metadata": {
        "colab": {
          "base_uri": "https://localhost:8080/",
          "height": 0
        },
        "id": "1MDnqYMV-wO4",
        "outputId": "a764709d-678c-427e-8600-d5e1689b6f41"
      },
      "outputs": [
        {
          "name": "stdout",
          "output_type": "stream",
          "text": [
            "Training Model ...\n",
            "\n",
            "\n",
            "[Epoch : 1/5] loss =  133944.6523590088\n",
            "[Epoch : 2/5] loss =  123956.33857727051\n",
            "[Epoch : 3/5] loss =  106795.77738952637\n",
            "[Epoch : 4/5] loss =  85399.45009613037\n",
            "[Epoch : 5/5] loss =  69562.80276870728\n"
          ]
        }
      ],
      "source": [
        "optim = get_optim(model)\n",
        "train_network(train_dataloader, model, optim, loss_fun)"
      ]
    },
    {
      "cell_type": "markdown",
      "metadata": {
        "id": "jeuFAzaiSYAH"
      },
      "source": [
        "### 3G) Test on the test data set - report accuracy, precision, recall and F1 scores."
      ]
    },
    {
      "cell_type": "code",
      "execution_count": 44,
      "metadata": {
        "colab": {
          "base_uri": "https://localhost:8080/",
          "height": 0
        },
        "id": "AnyaV50NDWXs",
        "outputId": "ebcc617d-55bd-485e-f0fb-256f905b6637"
      },
      "outputs": [
        {
          "name": "stdout",
          "output_type": "stream",
          "text": [
            "Test Error: \n",
            " Accuracy: 67.3%, Avg loss: 68.419176 \n",
            "\n",
            "Accuracy : tensor(0.7188, device='cuda:0')\n",
            "precision : tensor(0.6817, device='cuda:0')\n",
            "recall : tensor(0.7583, device='cuda:0')\n",
            "f1_score : tensor(0.7086, device='cuda:0')\n"
          ]
        },
        {
          "data": {
            "text/plain": [
              "(Accuracy(), Precision(), Recall(), F1Score())"
            ]
          },
          "execution_count": 44,
          "metadata": {},
          "output_type": "execute_result"
        }
      ],
      "source": [
        "test_network(test_dataloader, model, loss_fun)"
      ]
    }
  ],
  "metadata": {
    "accelerator": "GPU",
    "colab": {
      "provenance": []
    },
    "gpuClass": "standard",
    "kernelspec": {
      "display_name": "Python 3",
      "name": "python3"
    },
    "language_info": {
      "name": "python"
    }
  },
  "nbformat": 4,
  "nbformat_minor": 0
}
